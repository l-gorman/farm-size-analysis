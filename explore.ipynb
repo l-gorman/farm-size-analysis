{
 "cells": [
  {
   "cell_type": "code",
   "execution_count": 5,
   "metadata": {},
   "outputs": [],
   "source": [
    "import pandas as pd\n",
    "import geopandas as gpd\n",
    "import matplotlib.pyplot as plt\n",
    "import numpy as np\n",
    "from farmsize import data_prep, db_scan, mapping\n",
    "from shapely.geometry import Point\n"
   ]
  },
  {
   "cell_type": "code",
   "execution_count": 12,
   "metadata": {},
   "outputs": [],
   "source": [
    "country_mapping = data_prep.load_json(\"./data/country_mappings.json\")\n",
    "\n",
    "# Loading the administrative data\n",
    "ipums_level1 = gpd.read_file('./data/mapping/ipums/world_geolev1_2020/world_geolev1_2020.shp')\n",
    "ipums_level2 = gpd.read_file('./data/mapping/ipums/world_geolev2_2020/world_geolev2_2020.shp')\n",
    "\n",
    "# Subsetting it to match the countries \n",
    "ipums_level1 = ipums_level1.loc[ipums_level1[\"CNTRY_NAME\"].isin(country_mapping[\"ipums\"]),:]\n",
    "ipums_level2 = ipums_level2.loc[ipums_level2[\"CNTRY_NAME\"].isin(country_mapping[\"ipums\"]),:]\n",
    "\n",
    "# Adding ISO country details\n",
    "ipums_level1 = ipums_level1.merge(country_mapping, left_on=\"CNTRY_NAME\", right_on=\"ipums\", how=\"left\")\n",
    "ipums_level2 = ipums_level2.merge(country_mapping, left_on=\"CNTRY_NAME\", right_on=\"ipums\", how=\"left\")\n",
    "\n",
    "# Loading RHoMIS Indicators\n",
    "indicator_data = pd.read_csv(\"./data/RHoMIS_Indicators.csv\", encoding=\"latin\")\n",
    "countries_iso_2 = country_mapping[\"iso_2\"].to_list()\n",
    "indicator_data = data_prep.subset_data(indicator_data, complete_gps=True, countries=countries_iso_2) # Subsetting data bas"
   ]
  },
  {
   "cell_type": "code",
   "execution_count": null,
   "metadata": {},
   "outputs": [],
   "source": [
    "# World Shapefile\n",
    "world = gpd.read_file(gpd.datasets.get_path('naturalearth_lowres'))\n",
    "world.head()"
   ]
  },
  {
   "cell_type": "code",
   "execution_count": null,
   "metadata": {},
   "outputs": [],
   "source": [
    "# Generated using the function adminstrative_boundaries = mapping.get_admin_boundaries_multiple_countries(...)\n",
    "admin_1 = mapping.read_admin_boundaries_file('./data/mapping/subnational_geometries.csv')\n",
    "admin_1"
   ]
  },
  {
   "cell_type": "code",
   "execution_count": null,
   "metadata": {},
   "outputs": [],
   "source": [
    "# Spatially joining the two datasets\n",
    "indicator_data[\"geometry\"] = [Point(xy) for xy in zip(indicator_data[\"GPS_LON\"], indicator_data[\"GPS_LAT\"])]\n",
    "geo_indicator = gpd.GeoDataFrame(indicator_data)\n",
    "geo_indicator = geo_indicator.sjoin(world, how=\"left\", op=\"within\")\n"
   ]
  },
  {
   "cell_type": "code",
   "execution_count": null,
   "metadata": {},
   "outputs": [],
   "source": [
    "# Plot the points on a map\n",
    "#same as\n",
    "#fig= plt.figure()\n",
    "#ax=fig.add_subplot()\n",
    "fig, ax =  plt.subplots(figsize=(15,15))\n",
    "ax.set_aspect('equal')\n",
    "#Plot map layer\n",
    "world.loc[world[\"continent\"]==\"Africa\",].plot(ax=ax,color=\"white\", edgecolor=\"black\")\n",
    "\n",
    "world.loc[world[\"iso_a3\"].isin(countries_iso_3),].plot(ax=ax,color=\"blue\", edgecolor=\"black\", alpha=0.1)\n",
    "\n",
    "#Plot Points\n",
    "geo_indicator.plot(ax=ax, marker=0, color='black', markersize=5)\n",
    "\n",
    "fig.show()\n",
    "fig.savefig('./outputs/exploratory/map.png')\n"
   ]
  },
  {
   "cell_type": "code",
   "execution_count": null,
   "metadata": {},
   "outputs": [],
   "source": [
    "# Grouping by \n",
    "row_subsets = indicator_data[\"LandCultivated\"].notna() & indicator_data[\"LandCultivated\"].between(0.05,100)\n",
    "column_subsets= [\"ID_COUNTRY\", \"LandCultivated\"]\n",
    "grouping=\"ID_COUNTRY\"\n",
    "\n",
    "fig, ax = plt.subplots(figsize=(10,10))\n",
    "plt.tight_layout()\n",
    "ax.set_title(\"KDE of Land \")\n",
    "ax.set_xlabel(\"Land Cultivated (ha)\")\n",
    "ax.set_ylabel(\"Density\")\n",
    "ax.set_xlim([0,25])\n",
    "ax.set_ylim([0,0.6])\n",
    "indicator_data.loc[row_subsets,:].groupby(\"ID_COUNTRY\")[\"LandCultivated\"].plot(kind=\"kde\", ax=ax, legend=True)\n",
    "fig.savefig(\"./outputs/exploratory/land_size_kde_all_countries.png\", bbox_inches=\"tight\")"
   ]
  },
  {
   "cell_type": "markdown",
   "metadata": {},
   "source": [
    "# Clustering Households Spatially"
   ]
  },
  {
   "cell_type": "code",
   "execution_count": null,
   "metadata": {},
   "outputs": [],
   "source": [
    "cluster_labels = db_scan.cluster_gps_points(indicator_data, \"GPS_LON\", \"GPS_LAT\", epsilon=0.1)"
   ]
  }
 ],
 "metadata": {
  "interpreter": {
   "hash": "227b7af0e0396bda240cb7521772a0766502545d64c85d5d971dad89e73116e3"
  },
  "kernelspec": {
   "display_name": "Python 3.8.10 64-bit ('farmSizeAnalysis': venv)",
   "language": "python",
   "name": "python3"
  },
  "language_info": {
   "codemirror_mode": {
    "name": "ipython",
    "version": 3
   },
   "file_extension": ".py",
   "mimetype": "text/x-python",
   "name": "python",
   "nbconvert_exporter": "python",
   "pygments_lexer": "ipython3",
   "version": "3.8.10"
  },
  "orig_nbformat": 4
 },
 "nbformat": 4,
 "nbformat_minor": 2
}
