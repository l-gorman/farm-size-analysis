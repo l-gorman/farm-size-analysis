{
 "cells": [
  {
   "cell_type": "code",
   "execution_count": 12,
   "metadata": {},
   "outputs": [],
   "source": [
    "import pandas as pd\n",
    "import geopandas as gpd\n",
    "import matplotlib.pyplot as plt\n",
    "import numpy as np\n",
    "from farmsize import data_prep, db_scan, mapping\n",
    "from shapely.geometry import Point"
   ]
  },
  {
   "cell_type": "code",
   "execution_count": 22,
   "metadata": {},
   "outputs": [],
   "source": [
    "ipums_level1 = gpd.read_file('./data/mapping/ipums/world_geolev1_2020/world_geolev1_2020.shp')\n",
    "ipums_level2 = gpd.read_file('./data/mapping/ipums/world_geolev2_2020/world_geolev2_2020.shp')\n",
    "\n"
   ]
  },
  {
   "cell_type": "code",
   "execution_count": 42,
   "metadata": {},
   "outputs": [
    {
     "data": {
      "text/html": [
       "<div>\n",
       "<style scoped>\n",
       "    .dataframe tbody tr th:only-of-type {\n",
       "        vertical-align: middle;\n",
       "    }\n",
       "\n",
       "    .dataframe tbody tr th {\n",
       "        vertical-align: top;\n",
       "    }\n",
       "\n",
       "    .dataframe thead th {\n",
       "        text-align: right;\n",
       "    }\n",
       "</style>\n",
       "<table border=\"1\" class=\"dataframe\">\n",
       "  <thead>\n",
       "    <tr style=\"text-align: right;\">\n",
       "      <th></th>\n",
       "      <th>CNTRY_NAME</th>\n",
       "      <th>ADMIN_NAME</th>\n",
       "      <th>CNTRY_CODE</th>\n",
       "      <th>GEOLEVEL2</th>\n",
       "      <th>BPL_CODE</th>\n",
       "      <th>geometry</th>\n",
       "    </tr>\n",
       "  </thead>\n",
       "  <tbody>\n",
       "    <tr>\n",
       "      <th>12076</th>\n",
       "      <td>Sierra Leone</td>\n",
       "      <td>Luawa</td>\n",
       "      <td>694</td>\n",
       "      <td>694011001</td>\n",
       "      <td>15160.0</td>\n",
       "      <td>POLYGON ((-10.45587 8.36333, -10.45577 8.34013...</td>\n",
       "    </tr>\n",
       "    <tr>\n",
       "      <th>12077</th>\n",
       "      <td>Sierra Leone</td>\n",
       "      <td>Kpeje West, Njaluahun</td>\n",
       "      <td>694</td>\n",
       "      <td>694011002</td>\n",
       "      <td>15160.0</td>\n",
       "      <td>POLYGON ((-10.74217 8.22463, -10.74627 8.22063...</td>\n",
       "    </tr>\n",
       "    <tr>\n",
       "      <th>12078</th>\n",
       "      <td>Sierra Leone</td>\n",
       "      <td>Kissi Kama, Kissi Teng</td>\n",
       "      <td>694</td>\n",
       "      <td>694011003</td>\n",
       "      <td>15160.0</td>\n",
       "      <td>POLYGON ((-10.31651 8.50065, -10.31611 8.50057...</td>\n",
       "    </tr>\n",
       "    <tr>\n",
       "      <th>12079</th>\n",
       "      <td>Sierra Leone</td>\n",
       "      <td>Jawie</td>\n",
       "      <td>694</td>\n",
       "      <td>694011004</td>\n",
       "      <td>15160.0</td>\n",
       "      <td>POLYGON ((-10.80517 7.90063, -10.80957 7.89963...</td>\n",
       "    </tr>\n",
       "    <tr>\n",
       "      <th>12080</th>\n",
       "      <td>Sierra Leone</td>\n",
       "      <td>Kpeje Bongre, Penguia, Yawei</td>\n",
       "      <td>694</td>\n",
       "      <td>694011005</td>\n",
       "      <td>15160.0</td>\n",
       "      <td>POLYGON ((-10.65076 8.42304, -10.65013 8.42257...</td>\n",
       "    </tr>\n",
       "    <tr>\n",
       "      <th>...</th>\n",
       "      <td>...</td>\n",
       "      <td>...</td>\n",
       "      <td>...</td>\n",
       "      <td>...</td>\n",
       "      <td>...</td>\n",
       "      <td>...</td>\n",
       "    </tr>\n",
       "    <tr>\n",
       "      <th>12179</th>\n",
       "      <td>Sierra Leone</td>\n",
       "      <td>Western - urban - East 2</td>\n",
       "      <td>694</td>\n",
       "      <td>694042004</td>\n",
       "      <td>15160.0</td>\n",
       "      <td>POLYGON ((-13.28836 8.49792, -13.28503 8.49456...</td>\n",
       "    </tr>\n",
       "    <tr>\n",
       "      <th>12180</th>\n",
       "      <td>Sierra Leone</td>\n",
       "      <td>Western - urban - East 3</td>\n",
       "      <td>694</td>\n",
       "      <td>694042005</td>\n",
       "      <td>15160.0</td>\n",
       "      <td>POLYGON ((-13.28836 8.49792, -13.28503 8.49456...</td>\n",
       "    </tr>\n",
       "    <tr>\n",
       "      <th>12181</th>\n",
       "      <td>Sierra Leone</td>\n",
       "      <td>Western - urban - West 1</td>\n",
       "      <td>694</td>\n",
       "      <td>694042006</td>\n",
       "      <td>15160.0</td>\n",
       "      <td>POLYGON ((-13.28836 8.49792, -13.28503 8.49456...</td>\n",
       "    </tr>\n",
       "    <tr>\n",
       "      <th>12182</th>\n",
       "      <td>Sierra Leone</td>\n",
       "      <td>Western - urban - West 2</td>\n",
       "      <td>694</td>\n",
       "      <td>694042007</td>\n",
       "      <td>15160.0</td>\n",
       "      <td>POLYGON ((-13.28836 8.49792, -13.28503 8.49456...</td>\n",
       "    </tr>\n",
       "    <tr>\n",
       "      <th>12183</th>\n",
       "      <td>Sierra Leone</td>\n",
       "      <td>Western - urban - West 3</td>\n",
       "      <td>694</td>\n",
       "      <td>694042008</td>\n",
       "      <td>15160.0</td>\n",
       "      <td>POLYGON ((-13.28836 8.49792, -13.28503 8.49456...</td>\n",
       "    </tr>\n",
       "  </tbody>\n",
       "</table>\n",
       "<p>108 rows × 6 columns</p>\n",
       "</div>"
      ],
      "text/plain": [
       "         CNTRY_NAME                    ADMIN_NAME CNTRY_CODE  GEOLEVEL2  \\\n",
       "12076  Sierra Leone                         Luawa        694  694011001   \n",
       "12077  Sierra Leone         Kpeje West, Njaluahun        694  694011002   \n",
       "12078  Sierra Leone        Kissi Kama, Kissi Teng        694  694011003   \n",
       "12079  Sierra Leone                         Jawie        694  694011004   \n",
       "12080  Sierra Leone  Kpeje Bongre, Penguia, Yawei        694  694011005   \n",
       "...             ...                           ...        ...        ...   \n",
       "12179  Sierra Leone      Western - urban - East 2        694  694042004   \n",
       "12180  Sierra Leone      Western - urban - East 3        694  694042005   \n",
       "12181  Sierra Leone      Western - urban - West 1        694  694042006   \n",
       "12182  Sierra Leone      Western - urban - West 2        694  694042007   \n",
       "12183  Sierra Leone      Western - urban - West 3        694  694042008   \n",
       "\n",
       "       BPL_CODE                                           geometry  \n",
       "12076   15160.0  POLYGON ((-10.45587 8.36333, -10.45577 8.34013...  \n",
       "12077   15160.0  POLYGON ((-10.74217 8.22463, -10.74627 8.22063...  \n",
       "12078   15160.0  POLYGON ((-10.31651 8.50065, -10.31611 8.50057...  \n",
       "12079   15160.0  POLYGON ((-10.80517 7.90063, -10.80957 7.89963...  \n",
       "12080   15160.0  POLYGON ((-10.65076 8.42304, -10.65013 8.42257...  \n",
       "...         ...                                                ...  \n",
       "12179   15160.0  POLYGON ((-13.28836 8.49792, -13.28503 8.49456...  \n",
       "12180   15160.0  POLYGON ((-13.28836 8.49792, -13.28503 8.49456...  \n",
       "12181   15160.0  POLYGON ((-13.28836 8.49792, -13.28503 8.49456...  \n",
       "12182   15160.0  POLYGON ((-13.28836 8.49792, -13.28503 8.49456...  \n",
       "12183   15160.0  POLYGON ((-13.28836 8.49792, -13.28503 8.49456...  \n",
       "\n",
       "[108 rows x 6 columns]"
      ]
     },
     "execution_count": 42,
     "metadata": {},
     "output_type": "execute_result"
    }
   ],
   "source": [
    "ipums_level2.loc[ipums_level2[\"CNTRY_NAME\"].str.contains(\"Sierra\"),:]\n",
    "# ipums_level2[ipums_level2[\"CNTRY_NAME\"]==\"Ethiopia\"].plot()"
   ]
  },
  {
   "cell_type": "markdown",
   "metadata": {},
   "source": [
    "# Loading and Viewing Data"
   ]
  },
  {
   "cell_type": "code",
   "execution_count": null,
   "metadata": {},
   "outputs": [],
   "source": [
    "indicator_data = pd.read_csv(\"./data/RHoMIS_Indicators.csv\", encoding=\"latin\") \n",
    "countries_iso_2= [\"ET\",\"KE\",\"TZ\", \"UG\",\"BF\",\"ML\",\"GH\", \"SL\", \"NG\", \"RW\", \"BI\",]\n",
    "countries_iso_3 = [\"ETH\", \"KEN\", \"TZA\", \"UGA\", \"BFA\", \"MLI\", \"GHA\",  \"SLE\", \"NGA\",\"RWA\", \"BDI\"]\n",
    "ipums_country_names = [\"Ethiopia\", \"Kenya\",]\n",
    "country_name_mapping= {\n",
    "    \"ETH\":{\"ipums\": \"Ethiopia\", \"iso_2\":\"ET\", \"iso_3\":\"KEN\"}, \n",
    "    \"KEN\": : {\"ipums\":\"Kenya\", \"iso_2\":\"KE\", \"iso_3\":\"KEN\"}, \n",
    "    \"TZA\": {\"ipums\":\"Tanzania\", \"iso_2\":\"TZ\", \"iso_3\":\"TZA\"}, \n",
    "    \"UGA\": {\"ipums\":\"Uganda\", \"iso_2\":\"UG\", \"iso_3\":\"UGA\"}, \n",
    "    \"BFA\": {\"ipums\":\"Burkina Faso\", \"iso_2\":\"BF\", \"iso_3\":\"BFA\"}, \n",
    "    \"MLI\": {\"ipums\":\"Mali\", \"iso_2\":\"ML\", \"iso_3\":\"MLI\"}, \n",
    "    \"GHA\": {\"ipums\":\"Ghana\", \"iso_2\":\"GH\", \"iso_3\":\"\"},\n",
    "    \"SLE\": {\"ipums\":\"Sierra Leone\", \"iso_2\":\"SL\", \"iso_3\":\"SLE\"}, \n",
    "    \"NGA\": {\"ipums\":\"\", \"iso_2\":\"\", \"iso_3\":\"\"},\n",
    "    \"RWA\": {\"ipums\":\"\", \"iso_2\":\"\", \"iso_3\":\"\"}, \n",
    "    \"BDI\": {\"ipums\":\"\", \"iso_2\":\"\", \"iso_3\":\"\"}}\n",
    "indicator_data = data_prep.subset_data(indicator_data, complete_gps=True, countries=countries_iso_2)"
   ]
  },
  {
   "cell_type": "code",
   "execution_count": null,
   "metadata": {},
   "outputs": [],
   "source": [
    "# World Shapefile\n",
    "world = gpd.read_file(gpd.datasets.get_path('naturalearth_lowres'))\n",
    "world.head()"
   ]
  },
  {
   "cell_type": "code",
   "execution_count": null,
   "metadata": {},
   "outputs": [],
   "source": [
    "# Generated using the function adminstrative_boundaries = mapping.get_admin_boundaries_multiple_countries(...)\n",
    "admin_1 = mapping.read_admin_boundaries_file('./data/mapping/subnational_geometries.csv')\n",
    "admin_1"
   ]
  },
  {
   "cell_type": "code",
   "execution_count": null,
   "metadata": {},
   "outputs": [],
   "source": [
    "\n"
   ]
  },
  {
   "cell_type": "code",
   "execution_count": null,
   "metadata": {},
   "outputs": [],
   "source": []
  },
  {
   "cell_type": "code",
   "execution_count": null,
   "metadata": {},
   "outputs": [],
   "source": [
    "# Spatially joining the two datasets\n",
    "indicator_data[\"geometry\"] = [Point(xy) for xy in zip(indicator_data[\"GPS_LON\"], indicator_data[\"GPS_LAT\"])]\n",
    "geo_indicator = gpd.GeoDataFrame(indicator_data)\n",
    "geo_indicator = geo_indicator.sjoin(world, how=\"left\", op=\"within\")\n"
   ]
  },
  {
   "cell_type": "code",
   "execution_count": null,
   "metadata": {},
   "outputs": [],
   "source": [
    "world"
   ]
  },
  {
   "cell_type": "code",
   "execution_count": null,
   "metadata": {},
   "outputs": [],
   "source": [
    "# Plot the points on a map\n",
    "#same as\n",
    "#fig= plt.figure()\n",
    "#ax=fig.add_subplot()\n",
    "fig, ax =  plt.subplots(figsize=(15,15))\n",
    "ax.set_aspect('equal')\n",
    "#Plot map layer\n",
    "world.loc[world[\"continent\"]==\"Africa\",].plot(ax=ax,color=\"white\", edgecolor=\"black\")\n",
    "\n",
    "world.loc[world[\"iso_a3\"].isin(countries_iso_3),].plot(ax=ax,color=\"blue\", edgecolor=\"black\", alpha=0.1)\n",
    "\n",
    "#Plot Points\n",
    "geo_indicator.plot(ax=ax, marker=0, color='black', markersize=5)\n",
    "\n",
    "fig.show()\n",
    "fig.savefig('./outputs/exploratory/map.png')\n"
   ]
  },
  {
   "cell_type": "code",
   "execution_count": null,
   "metadata": {},
   "outputs": [],
   "source": [
    "# Grouping by \n",
    "row_subsets = indicator_data[\"LandCultivated\"].notna() & indicator_data[\"LandCultivated\"].between(0.05,100)\n",
    "column_subsets= [\"ID_COUNTRY\", \"LandCultivated\"]\n",
    "grouping=\"ID_COUNTRY\"\n",
    "\n",
    "fig, ax = plt.subplots(figsize=(10,10))\n",
    "plt.tight_layout()\n",
    "ax.set_title(\"KDE of Land \")\n",
    "ax.set_xlabel(\"Land Cultivated (ha)\")\n",
    "ax.set_ylabel(\"Density\")\n",
    "ax.set_xlim([0,25])\n",
    "ax.set_ylim([0,0.6])\n",
    "indicator_data.loc[row_subsets,:].groupby(\"ID_COUNTRY\")[\"LandCultivated\"].plot(kind=\"kde\", ax=ax, legend=True)\n",
    "fig.savefig(\"./outputs/exploratory/land_size_kde_all_countries.png\", bbox_inches=\"tight\")"
   ]
  },
  {
   "cell_type": "code",
   "execution_count": null,
   "metadata": {},
   "outputs": [],
   "source": []
  },
  {
   "cell_type": "markdown",
   "metadata": {},
   "source": [
    "# Clustering Households Spatially"
   ]
  },
  {
   "cell_type": "code",
   "execution_count": null,
   "metadata": {},
   "outputs": [],
   "source": [
    "cluster_labels = db_scan.cluster_gps_points(indicator_data, \"GPS_LON\", \"GPS_LAT\", epsilon=0.1)\n"
   ]
  },
  {
   "cell_type": "code",
   "execution_count": null,
   "metadata": {},
   "outputs": [],
   "source": [
    "mapping.get_admin_boundaries_multiple_countries([\"ETH\",\"KEN\"])\n",
    "\n",
    "\n"
   ]
  },
  {
   "cell_type": "code",
   "execution_count": null,
   "metadata": {},
   "outputs": [],
   "source": [
    "import requests\n",
    "\n",
    "def get_country_admin_boundaries(iso_a_3):\n",
    "    # See documentation on GeoBoundaries API\n",
    "    url = \"https://www.geoboundaries.org/gbRequest.html?ISO=\"+iso_a_3+\"ADM=ADM1\"\n",
    "    r = requests.get(url)\n",
    "    downloand_url  = r.json()[0]['gjDownloadURL']\n",
    "    geoBoundary = requests.get(downloand_url).json()\n",
    "\n",
    "    names = [feature[\"properties\"][\"shapeISO\"] for feature in geoBoundary[\"features\"] ]\n",
    "    shapeISO = [feature[\"properties\"][\"shapeName\"] for feature in geoBoundary[\"features\"] ]\n",
    "    shapeID = [feature[\"properties\"][\"shapeID\"] for feature in geoBoundary[\"features\"] ]\n",
    "    shapeType = [feature[\"properties\"][\"shapeType\"] for feature in geoBoundary[\"features\"] ]\n",
    "    geometry = [shape(feature[\"geometry\"]) for feature in geoBoundary[\"features\"] ]\n",
    "\n",
    "    geo_data_frame = gpd.GeoDataFrame(data={\n",
    "        \"iso_a3\": iso_a_3,\n",
    "        \"region_name\": names,\n",
    "        \"shapeISO\": shapeISO,\n",
    "        \"shapeID\": shapeID,\n",
    "        \"shapeType\": shapeType,\n",
    "        \"geometry\": geometry\n",
    "    })\n",
    "\n",
    "    return geo_data_frame\n",
    "\n",
    "\n",
    "\n"
   ]
  },
  {
   "cell_type": "code",
   "execution_count": null,
   "metadata": {},
   "outputs": [],
   "source": [
    "world.loc[world[\"continent\"]==\"Africa\",\"iso_a3\"].values\n",
    "\n",
    "\n",
    "\n",
    "\n",
    "\n",
    "\n",
    "\n"
   ]
  },
  {
   "cell_type": "code",
   "execution_count": null,
   "metadata": {},
   "outputs": [],
   "source": [
    "geo_data_frame"
   ]
  }
 ],
 "metadata": {
  "interpreter": {
   "hash": "227b7af0e0396bda240cb7521772a0766502545d64c85d5d971dad89e73116e3"
  },
  "kernelspec": {
   "display_name": "Python 3.8.10 64-bit ('farmSizeAnalysis': venv)",
   "language": "python",
   "name": "python3"
  },
  "language_info": {
   "codemirror_mode": {
    "name": "ipython",
    "version": 3
   },
   "file_extension": ".py",
   "mimetype": "text/x-python",
   "name": "python",
   "nbconvert_exporter": "python",
   "pygments_lexer": "ipython3",
   "version": "3.8.10"
  },
  "orig_nbformat": 4
 },
 "nbformat": 4,
 "nbformat_minor": 2
}
