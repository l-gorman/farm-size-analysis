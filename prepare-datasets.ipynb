{
 "cells": [
  {
   "cell_type": "markdown",
   "metadata": {},
   "source": [
    "# Preparing RHoMIS Dataset for Spatial Analysis"
   ]
  },
  {
   "cell_type": "code",
   "execution_count": 1,
   "metadata": {},
   "outputs": [],
   "source": [
    "# Setup\n",
    "import pandas as pd\n",
    "import geopandas as gpd\n",
    "import matplotlib.pyplot as plt\n",
    "import numpy as np\n",
    "from farmsize import data_prep, db_scan, mapping\n",
    "from shapely.geometry import Point\n",
    "import seaborn as sns\n",
    "import warnings\n",
    "warnings.simplefilter('ignore')"
   ]
  },
  {
   "cell_type": "markdown",
   "metadata": {},
   "source": [
    "First we want to read in RHoMIS data alongside\n",
    "data from IPUMS terra. "
   ]
  },
  {
   "cell_type": "code",
   "execution_count": 5,
   "metadata": {},
   "outputs": [],
   "source": [
    "# Reading in Data Sources\n",
    "country_mapping = data_prep.load_json(\"./data/country_mappings.json\")\n",
    "\n",
    "ipums_terra = mapping.read_geo_csv(\"./data/ipums/processed/ipums_terra_merged.csv\")\n",
    "ipums_terra = ipums_terra.loc[ipums_terra[\"iso_2\"].isin(country_mapping[\"iso_2\"]),:]\n",
    "ipums_terra = ipums_terra.merge(country_mapping, left_on=\"iso_2\", right_on=\"iso_2\", how=\"left\")\n",
    "\n",
    "# Loading RHoMIS Indicators\n",
    "indicator_data = pd.read_csv(\"./data/rhomis-data/indicator_data/indicator_data.csv\", encoding=\"latin\", low_memory=False)\n",
    "rhomis_data = pd.read_csv(\"./data/rhomis-data/processed_data/processed_data.csv\", encoding=\"latin\", low_memory=False) \n",
    "\n",
    "gps_coords = rhomis_data[[\"id_unique\",\"gps_lat\", \"gps_lon\"]]\n",
    "indicator_data = indicator_data.merge(gps_coords, on=\"id_unique\", how=\"left\")\n",
    "\n",
    "countries_iso_2 = country_mapping[\"iso_2\"].to_list()\n",
    "indicator_data = data_prep.subset_data(indicator_data, complete_gps=True, countries=countries_iso_2) # Subsetting data bas\n",
    "\n",
    "# World Shapefile\n",
    "world = gpd.read_file(gpd.datasets.get_path('naturalearth_lowres'))"
   ]
  },
  {
   "cell_type": "markdown",
   "metadata": {},
   "source": [
    "Then we want to spatially join the IPUMS data with the \n",
    "RHoMIS dataset"
   ]
  },
  {
   "cell_type": "code",
   "execution_count": 6,
   "metadata": {},
   "outputs": [],
   "source": [
    "# Spatially joining the household survey, the world shapefile, and the ipums terra data\n",
    "indicator_data[\"geometry\"] = [Point(xy) for xy in zip(indicator_data[\"gps_lon\"], indicator_data[\"gps_lat\"])]\n",
    "geo_indicator = gpd.GeoDataFrame(indicator_data)\n",
    "geo_indicator = geo_indicator.sjoin(world, how=\"left\", op=\"within\")\n",
    "geo_indicator = geo_indicator.rename(columns={\"index_right\":\"index_world_shapefile\"})\n",
    "geo_indicator = geo_indicator.sjoin(ipums_terra, how=\"left\", op=\"within\")\n",
    "geo_indicator = geo_indicator.rename(columns={\"index_right\":\"index_ipums_terra\"})"
   ]
  },
  {
   "cell_type": "markdown",
   "metadata": {},
   "source": [
    "Then we want to read in all of the LSMS datasets "
   ]
  },
  {
   "cell_type": "code",
   "execution_count": 7,
   "metadata": {},
   "outputs": [],
   "source": [
    "burkina_lsms = data_prep.link_points_to_ipums_and_world(\"BFA\",\"latitude\",\"longitude\",\"./data/lsms/LSMS_Burkina_landsizes.csv\",ipums_terra,world)\n",
    "ethiopia_lsms = data_prep.link_points_to_ipums_and_world(\"ETH\",\"latitude\",\"longitude\",\"./data/lsms/LSMS_Ethiopia_landsizes.csv\",ipums_terra,world)\n",
    "malawi_lsms = data_prep.link_points_to_ipums_and_world(\"MWI\",\"Latitude\",\"Longitude\",\"./data/lsms/LSMS_Malawi_2011_landsizes.csv\",ipums_terra,world)\n",
    "malawi_lsms.rename({\"Latitude\":\"latitude\", \"Longitude\":\"longitude\"}, inplace=True)\n",
    "niger_lsms = data_prep.link_points_to_ipums_and_world(\"NER\",\"latitude\",\"longitude\",\"./data/lsms/LSMS_Niger_landsizes.csv\",ipums_terra,world)\n",
    "nigeria_lsms = data_prep.link_points_to_ipums_and_world(\"NGA\",\"Latitude\",\"Longitude\",\"./data/lsms/LSMS_Nigeria_landsizes.csv\",ipums_terra,world)\n",
    "nigeria_lsms.rename({\"Latitude\":\"latitude\", \"Longitude\":\"longitude\"}, inplace=True)\n",
    "\n",
    "tanzania_lsms = data_prep.link_points_to_ipums_and_world(\"TZA\",\"latitude\",\"longitude\",\"./data/lsms/LSMS_Tanzania_landsizes.csv\",ipums_terra,world)\n",
    "uganda_lsms = data_prep.link_points_to_ipums_and_world(\"UGA\",\"Latitude\",\"Longitude\",\"./data/lsms/LSMS_Uganda_2012_landsizes.csv\",ipums_terra,world)\n",
    "uganda_lsms.rename({\"Latitude\":\"latitude\", \"Longitude\":\"longitude\"}, inplace=True)\n",
    "\n",
    "\n",
    "lsms_data = pd.concat([burkina_lsms,ethiopia_lsms, malawi_lsms, niger_lsms, nigeria_lsms, tanzania_lsms, uganda_lsms])\n",
    "lsms_data.to_csv(\"./data/lsms/lsms_all.csv\",index=False)"
   ]
  },
  {
   "cell_type": "markdown",
   "metadata": {},
   "source": []
  }
 ],
 "metadata": {
  "kernelspec": {
   "display_name": "Python 3.9.13 ('venv': venv)",
   "language": "python",
   "name": "python3"
  },
  "language_info": {
   "codemirror_mode": {
    "name": "ipython",
    "version": 3
   },
   "file_extension": ".py",
   "mimetype": "text/x-python",
   "name": "python",
   "nbconvert_exporter": "python",
   "pygments_lexer": "ipython3",
   "version": "3.9.13"
  },
  "orig_nbformat": 4,
  "vscode": {
   "interpreter": {
    "hash": "696c6a8f594dbb4634a33c433b76d12cddd12fd11a06903eea7ba597da378b09"
   }
  }
 },
 "nbformat": 4,
 "nbformat_minor": 2
}
